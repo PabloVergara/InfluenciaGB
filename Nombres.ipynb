{
 "cells": [
  {
   "cell_type": "markdown",
   "metadata": {},
   "source": [
    "### Entendimiento del Problema\n",
    "“Dado que el Reino Unido (UK) fue uno de los principales países que colonizaron los\n",
    "Estados Unidos (USA), y UK se encuentra en el lado este de USA, entonces hay más\n",
    "ciudades/poblados con nombres de ciudades de UK en la costa este de USA en\n",
    "comparación a la costa oeste”.\n",
    "\n",
    "Despúes de hacer una pequeña búsqueda para entender el problema, llegamos a que históricamente se considera únicamente costa este de estados unidos a la **zona costera central-este y nor-este.** Esta zona fue escenario de la colonización a gran escala por parte de los británicos a partir de 1580. Para lo que respecta a este estudio serán incluidos tanto los estados de la costa este histórica, como los estados con costa en el atlántico que no sean considerados como sureños: \n",
    "* Maine (ME)\n",
    "* New Hampshire (NH)\n",
    "* Massachusetts (MA)\n",
    "* Rhode Island (RI)\n",
    "* Connecticut (CT)\n",
    "* New York (NY)\n",
    "* New Jersey (NJ)\n",
    "* Delaware  (DE) \n",
    "* Maryland (MD)\n",
    "* Virginia (VA)\n",
    "* North Carolina (NC)\n",
    "* South Carolina (SC)\n",
    "* Georgia (GA)\n",
    "* Florida (FL) \n",
    "\n",
    "Los estados considerados pertenecientes a la costa oeste para los efectos de este trabajo son los terrenos colindantes con la costa del océano pacífico incluyendo Arizona y Nevada (debido a motivos históricos) con la excepción de aquellos considerados sureños:\n",
    "\n",
    "* California (CA)\n",
    "* Oregon (OR)\n",
    "* Washington (WA)\n",
    "* Alaska (AK)\n",
    "* Arizona (AZ) \n",
    "* Nevada (NV)\n",
    "\n",
    "Si bien a grandes razgos la hipótesis es fácil de testear filtrando en la misma fuente entregada [1] usando el país Estados Unidos y el texto 'New', suponiendo claro que las ciudades empezadas con \"new\" en su mayoria corresponden a nombres de  ciudades de Gran Bretaña su mayor colonizador. Al hacer esto podemos observar una clara tendencia en la costa este histórica. \n",
    "\n",
    "Pero como queremos estar completamente seguros haremos un análisis exahustivo.\n",
    "\n",
    "[1] https://public.opendatasoft.com/explore/dataset/worldcitiespop/table/?disjunctive.country&sort=population)\n",
    "\n",
    "[2] https://www.50states.com/abbreviations.htm"
   ]
  },
  {
   "cell_type": "markdown",
   "metadata": {},
   "source": [
    "![alt text](map_1.jpg \"Filtrada usando COUNTRY ='US' y Text ='New'\")"
   ]
  },
  {
   "cell_type": "markdown",
   "metadata": {},
   "source": [
    "#### Hacemos una lista con los estados correspondientes a cada costa, sacados de [2]"
   ]
  },
  {
   "cell_type": "code",
   "execution_count": 1,
   "metadata": {},
   "outputs": [],
   "source": [
    "east_c_l=['ME','NH','MA','RI','CT','NY','NJ','DE','MD','VA','NC','SC','GA','FL']\n",
    "west_c_l=['CA','OR','WA','AK','AZ','NV']"
   ]
  },
  {
   "cell_type": "markdown",
   "metadata": {},
   "source": [
    "#### Importamos Librerias"
   ]
  },
  {
   "cell_type": "code",
   "execution_count": 2,
   "metadata": {},
   "outputs": [],
   "source": [
    "import dask.dataframe as dd\n",
    "import pandas as pd\n",
    "import numpy as np\n",
    "from joblib import Parallel, delayed\n",
    "import multiprocessing\n",
    "from time import time\n",
    "num_cores = 12"
   ]
  },
  {
   "cell_type": "markdown",
   "metadata": {},
   "source": [
    "#### Importamos Datasets"
   ]
  },
  {
   "cell_type": "code",
   "execution_count": 3,
   "metadata": {},
   "outputs": [],
   "source": [
    "usa = dd.read_csv('usa.csv', sep=';')\n",
    "uk= dd.read_csv('uk.csv',sep=';')"
   ]
  },
  {
   "cell_type": "code",
   "execution_count": 4,
   "metadata": {},
   "outputs": [],
   "source": [
    "west_c=usa[usa['Region'].isin(west_c_l)]"
   ]
  },
  {
   "cell_type": "code",
   "execution_count": 5,
   "metadata": {},
   "outputs": [],
   "source": [
    "east_c=usa[usa['Region'].isin(east_c_l)]"
   ]
  },
  {
   "cell_type": "markdown",
   "metadata": {},
   "source": [
    "##### Exploremos un poco los datos"
   ]
  },
  {
   "cell_type": "code",
   "execution_count": 6,
   "metadata": {},
   "outputs": [
    {
     "name": "stdout",
     "output_type": "stream",
     "text": [
      "Nombres repetidos en la Costa Este:  10139\n"
     ]
    }
   ],
   "source": [
    "print('Nombres repetidos en la Costa Este: ',east_c.City.count().compute()-east_c.City.nunique().compute())"
   ]
  },
  {
   "cell_type": "code",
   "execution_count": 7,
   "metadata": {},
   "outputs": [
    {
     "name": "stdout",
     "output_type": "stream",
     "text": [
      "Nombres totales en la Costa Este:  46860\n"
     ]
    }
   ],
   "source": [
    "print('Nombres totales en la Costa Este: ',east_c.City.count().compute())"
   ]
  },
  {
   "cell_type": "code",
   "execution_count": 8,
   "metadata": {},
   "outputs": [
    {
     "name": "stdout",
     "output_type": "stream",
     "text": [
      "Nombres unicos en la Costa Este:  36721\n"
     ]
    }
   ],
   "source": [
    "print('Nombres unicos en la Costa Este: ',east_c.City.nunique().compute())"
   ]
  },
  {
   "cell_type": "code",
   "execution_count": 9,
   "metadata": {},
   "outputs": [
    {
     "name": "stdout",
     "output_type": "stream",
     "text": [
      "Nombres repetidos en la Costa Oeste:  1239\n"
     ]
    }
   ],
   "source": [
    "print('Nombres repetidos en la Costa Oeste: ',west_c.City.count().compute()-west_c.City.nunique().compute())"
   ]
  },
  {
   "cell_type": "code",
   "execution_count": 10,
   "metadata": {},
   "outputs": [
    {
     "name": "stdout",
     "output_type": "stream",
     "text": [
      "Nombres totales en la Costa Oeste:  12330\n"
     ]
    }
   ],
   "source": [
    "print('Nombres totales en la Costa Oeste: ',west_c.City.count().compute())"
   ]
  },
  {
   "cell_type": "code",
   "execution_count": 11,
   "metadata": {},
   "outputs": [
    {
     "name": "stdout",
     "output_type": "stream",
     "text": [
      "Nombres unicos en la Costa Oeste:  11091\n"
     ]
    }
   ],
   "source": [
    "print('Nombres unicos en la Costa Oeste: ',west_c.City.nunique().compute())"
   ]
  },
  {
   "cell_type": "code",
   "execution_count": 12,
   "metadata": {},
   "outputs": [
    {
     "name": "stdout",
     "output_type": "stream",
     "text": [
      "Nombres repetidos en UK:  1683\n"
     ]
    }
   ],
   "source": [
    "print('Nombres repetidos en UK: ',uk.City.count().compute()-uk.City.nunique().compute())"
   ]
  },
  {
   "cell_type": "code",
   "execution_count": 13,
   "metadata": {},
   "outputs": [
    {
     "name": "stdout",
     "output_type": "stream",
     "text": [
      "Nombres totales en UK:  17708\n"
     ]
    }
   ],
   "source": [
    "print('Nombres totales en UK: ',uk.City.count().compute())"
   ]
  },
  {
   "cell_type": "code",
   "execution_count": 14,
   "metadata": {},
   "outputs": [
    {
     "name": "stdout",
     "output_type": "stream",
     "text": [
      "Nombres unicos en UK:  16025\n"
     ]
    }
   ],
   "source": [
    "print('Nombres unicos en UK: ',uk.City.nunique().compute())"
   ]
  },
  {
   "cell_type": "code",
   "execution_count": 15,
   "metadata": {},
   "outputs": [
    {
     "data": {
      "text/html": [
       "<div>\n",
       "<style scoped>\n",
       "    .dataframe tbody tr th:only-of-type {\n",
       "        vertical-align: middle;\n",
       "    }\n",
       "\n",
       "    .dataframe tbody tr th {\n",
       "        vertical-align: top;\n",
       "    }\n",
       "\n",
       "    .dataframe thead th {\n",
       "        text-align: right;\n",
       "    }\n",
       "</style>\n",
       "<table border=\"1\" class=\"dataframe\">\n",
       "  <thead>\n",
       "    <tr style=\"text-align: right;\">\n",
       "      <th></th>\n",
       "      <th>Country</th>\n",
       "      <th>City</th>\n",
       "      <th>AccentCity</th>\n",
       "      <th>Region</th>\n",
       "      <th>Population</th>\n",
       "      <th>Latitude</th>\n",
       "      <th>Longitude</th>\n",
       "      <th>geopoint</th>\n",
       "    </tr>\n",
       "  </thead>\n",
       "  <tbody>\n",
       "    <tr>\n",
       "      <td>443</td>\n",
       "      <td>gb</td>\n",
       "      <td>west yorkshire</td>\n",
       "      <td>West Yorkshire</td>\n",
       "      <td>G8</td>\n",
       "      <td>NaN</td>\n",
       "      <td>53.700000</td>\n",
       "      <td>-1.583333</td>\n",
       "      <td>53.7,-1.583333</td>\n",
       "    </tr>\n",
       "    <tr>\n",
       "      <td>580</td>\n",
       "      <td>gb</td>\n",
       "      <td>derryork</td>\n",
       "      <td>Derryork</td>\n",
       "      <td>S4</td>\n",
       "      <td>NaN</td>\n",
       "      <td>54.950000</td>\n",
       "      <td>-6.883333</td>\n",
       "      <td>54.95,-6.883333</td>\n",
       "    </tr>\n",
       "    <tr>\n",
       "      <td>894</td>\n",
       "      <td>gb</td>\n",
       "      <td>district of east riding of yorkshire</td>\n",
       "      <td>District of East Riding of Yorkshire</td>\n",
       "      <td>E1</td>\n",
       "      <td>NaN</td>\n",
       "      <td>53.916667</td>\n",
       "      <td>-0.500000</td>\n",
       "      <td>53.916667,-0.5</td>\n",
       "    </tr>\n",
       "    <tr>\n",
       "      <td>1386</td>\n",
       "      <td>gb</td>\n",
       "      <td>north yorkshire</td>\n",
       "      <td>North Yorkshire</td>\n",
       "      <td>J7</td>\n",
       "      <td>NaN</td>\n",
       "      <td>54.166667</td>\n",
       "      <td>-1.500000</td>\n",
       "      <td>54.166667,-1.5</td>\n",
       "    </tr>\n",
       "    <tr>\n",
       "      <td>2852</td>\n",
       "      <td>gb</td>\n",
       "      <td>west riding yorkshire</td>\n",
       "      <td>West Riding Yorkshire</td>\n",
       "      <td>B4</td>\n",
       "      <td>NaN</td>\n",
       "      <td>53.916667</td>\n",
       "      <td>-1.916667</td>\n",
       "      <td>53.916667,-1.916667</td>\n",
       "    </tr>\n",
       "    <tr>\n",
       "      <td>6260</td>\n",
       "      <td>gb</td>\n",
       "      <td>york</td>\n",
       "      <td>York</td>\n",
       "      <td>Q5</td>\n",
       "      <td>144202.0</td>\n",
       "      <td>53.954115</td>\n",
       "      <td>-1.064262</td>\n",
       "      <td>53.954115,-1.064262</td>\n",
       "    </tr>\n",
       "    <tr>\n",
       "      <td>6392</td>\n",
       "      <td>gb</td>\n",
       "      <td>newyork</td>\n",
       "      <td>Newyork</td>\n",
       "      <td>T8</td>\n",
       "      <td>NaN</td>\n",
       "      <td>56.250000</td>\n",
       "      <td>-5.283333</td>\n",
       "      <td>56.25,-5.283333</td>\n",
       "    </tr>\n",
       "    <tr>\n",
       "      <td>6545</td>\n",
       "      <td>gb</td>\n",
       "      <td>south yorkshire</td>\n",
       "      <td>South Yorkshire</td>\n",
       "      <td>L3</td>\n",
       "      <td>NaN</td>\n",
       "      <td>53.450000</td>\n",
       "      <td>-1.250000</td>\n",
       "      <td>53.45,-1.25</td>\n",
       "    </tr>\n",
       "    <tr>\n",
       "      <td>6947</td>\n",
       "      <td>gb</td>\n",
       "      <td>city of york</td>\n",
       "      <td>City of York</td>\n",
       "      <td>Q5</td>\n",
       "      <td>NaN</td>\n",
       "      <td>53.954115</td>\n",
       "      <td>-1.064262</td>\n",
       "      <td>53.954115,-1.064262</td>\n",
       "    </tr>\n",
       "    <tr>\n",
       "      <td>10863</td>\n",
       "      <td>gb</td>\n",
       "      <td>county of north yorkshire</td>\n",
       "      <td>County of North Yorkshire</td>\n",
       "      <td>J7</td>\n",
       "      <td>NaN</td>\n",
       "      <td>54.166667</td>\n",
       "      <td>-1.500000</td>\n",
       "      <td>54.166667,-1.5</td>\n",
       "    </tr>\n",
       "    <tr>\n",
       "      <td>11620</td>\n",
       "      <td>gb</td>\n",
       "      <td>new york</td>\n",
       "      <td>New York</td>\n",
       "      <td>H7</td>\n",
       "      <td>NaN</td>\n",
       "      <td>53.083333</td>\n",
       "      <td>-0.150000</td>\n",
       "      <td>53.083333,-0.15</td>\n",
       "    </tr>\n",
       "    <tr>\n",
       "      <td>12276</td>\n",
       "      <td>gb</td>\n",
       "      <td>york</td>\n",
       "      <td>York</td>\n",
       "      <td>J7</td>\n",
       "      <td>NaN</td>\n",
       "      <td>54.000000</td>\n",
       "      <td>-1.500000</td>\n",
       "      <td>54.0,-1.5</td>\n",
       "    </tr>\n",
       "    <tr>\n",
       "      <td>13329</td>\n",
       "      <td>gb</td>\n",
       "      <td>north riding yorkshire</td>\n",
       "      <td>North Riding Yorkshire</td>\n",
       "      <td>J7</td>\n",
       "      <td>NaN</td>\n",
       "      <td>54.333333</td>\n",
       "      <td>-1.416667</td>\n",
       "      <td>54.333333,-1.416667</td>\n",
       "    </tr>\n",
       "    <tr>\n",
       "      <td>15106</td>\n",
       "      <td>gb</td>\n",
       "      <td>east riding yorkshire</td>\n",
       "      <td>East Riding Yorkshire</td>\n",
       "      <td>E1</td>\n",
       "      <td>NaN</td>\n",
       "      <td>53.916667</td>\n",
       "      <td>-0.500000</td>\n",
       "      <td>53.916667,-0.5</td>\n",
       "    </tr>\n",
       "    <tr>\n",
       "      <td>16520</td>\n",
       "      <td>gb</td>\n",
       "      <td>yorkshire</td>\n",
       "      <td>Yorkshire</td>\n",
       "      <td>J7</td>\n",
       "      <td>NaN</td>\n",
       "      <td>54.000000</td>\n",
       "      <td>-1.500000</td>\n",
       "      <td>54.0,-1.5</td>\n",
       "    </tr>\n",
       "  </tbody>\n",
       "</table>\n",
       "</div>"
      ],
      "text/plain": [
       "      Country                                  City  \\\n",
       "443        gb                        west yorkshire   \n",
       "580        gb                              derryork   \n",
       "894        gb  district of east riding of yorkshire   \n",
       "1386       gb                       north yorkshire   \n",
       "2852       gb                 west riding yorkshire   \n",
       "6260       gb                                  york   \n",
       "6392       gb                               newyork   \n",
       "6545       gb                       south yorkshire   \n",
       "6947       gb                          city of york   \n",
       "10863      gb             county of north yorkshire   \n",
       "11620      gb                              new york   \n",
       "12276      gb                                  york   \n",
       "13329      gb                north riding yorkshire   \n",
       "15106      gb                 east riding yorkshire   \n",
       "16520      gb                             yorkshire   \n",
       "\n",
       "                                 AccentCity Region  Population   Latitude  \\\n",
       "443                          West Yorkshire     G8         NaN  53.700000   \n",
       "580                                Derryork     S4         NaN  54.950000   \n",
       "894    District of East Riding of Yorkshire     E1         NaN  53.916667   \n",
       "1386                        North Yorkshire     J7         NaN  54.166667   \n",
       "2852                  West Riding Yorkshire     B4         NaN  53.916667   \n",
       "6260                                   York     Q5    144202.0  53.954115   \n",
       "6392                                Newyork     T8         NaN  56.250000   \n",
       "6545                        South Yorkshire     L3         NaN  53.450000   \n",
       "6947                           City of York     Q5         NaN  53.954115   \n",
       "10863             County of North Yorkshire     J7         NaN  54.166667   \n",
       "11620                              New York     H7         NaN  53.083333   \n",
       "12276                                  York     J7         NaN  54.000000   \n",
       "13329                North Riding Yorkshire     J7         NaN  54.333333   \n",
       "15106                 East Riding Yorkshire     E1         NaN  53.916667   \n",
       "16520                             Yorkshire     J7         NaN  54.000000   \n",
       "\n",
       "       Longitude             geopoint  \n",
       "443    -1.583333       53.7,-1.583333  \n",
       "580    -6.883333      54.95,-6.883333  \n",
       "894    -0.500000       53.916667,-0.5  \n",
       "1386   -1.500000       54.166667,-1.5  \n",
       "2852   -1.916667  53.916667,-1.916667  \n",
       "6260   -1.064262  53.954115,-1.064262  \n",
       "6392   -5.283333      56.25,-5.283333  \n",
       "6545   -1.250000          53.45,-1.25  \n",
       "6947   -1.064262  53.954115,-1.064262  \n",
       "10863  -1.500000       54.166667,-1.5  \n",
       "11620  -0.150000      53.083333,-0.15  \n",
       "12276  -1.500000            54.0,-1.5  \n",
       "13329  -1.416667  54.333333,-1.416667  \n",
       "15106  -0.500000       53.916667,-0.5  \n",
       "16520  -1.500000            54.0,-1.5  "
      ]
     },
     "execution_count": 15,
     "metadata": {},
     "output_type": "execute_result"
    }
   ],
   "source": [
    "#Ciudades de Gran Bretaña que contienen la palabra york\n",
    "uk[uk.City.str.contains('york',regex=True)].compute()"
   ]
  },
  {
   "cell_type": "code",
   "execution_count": 16,
   "metadata": {},
   "outputs": [
    {
     "data": {
      "text/html": [
       "<div>\n",
       "<style scoped>\n",
       "    .dataframe tbody tr th:only-of-type {\n",
       "        vertical-align: middle;\n",
       "    }\n",
       "\n",
       "    .dataframe tbody tr th {\n",
       "        vertical-align: top;\n",
       "    }\n",
       "\n",
       "    .dataframe thead th {\n",
       "        text-align: right;\n",
       "    }\n",
       "</style>\n",
       "<table border=\"1\" class=\"dataframe\">\n",
       "  <thead>\n",
       "    <tr style=\"text-align: right;\">\n",
       "      <th></th>\n",
       "      <th>Country</th>\n",
       "      <th>City</th>\n",
       "      <th>AccentCity</th>\n",
       "      <th>Region</th>\n",
       "      <th>Population</th>\n",
       "      <th>Latitude</th>\n",
       "      <th>Longitude</th>\n",
       "      <th>geopoint</th>\n",
       "    </tr>\n",
       "  </thead>\n",
       "  <tbody>\n",
       "    <tr>\n",
       "      <td>1082</td>\n",
       "      <td>us</td>\n",
       "      <td>yorklyn</td>\n",
       "      <td>Yorklyn</td>\n",
       "      <td>PA</td>\n",
       "      <td>NaN</td>\n",
       "      <td>39.992222</td>\n",
       "      <td>-76.646667</td>\n",
       "      <td>39.9922222,-76.6466667</td>\n",
       "    </tr>\n",
       "    <tr>\n",
       "      <td>1443</td>\n",
       "      <td>us</td>\n",
       "      <td>york</td>\n",
       "      <td>York</td>\n",
       "      <td>AL</td>\n",
       "      <td>NaN</td>\n",
       "      <td>32.486111</td>\n",
       "      <td>-88.296389</td>\n",
       "      <td>32.4861111,-88.2963889</td>\n",
       "    </tr>\n",
       "    <tr>\n",
       "      <td>1946</td>\n",
       "      <td>us</td>\n",
       "      <td>north york</td>\n",
       "      <td>North York</td>\n",
       "      <td>WI</td>\n",
       "      <td>NaN</td>\n",
       "      <td>46.392778</td>\n",
       "      <td>-90.777500</td>\n",
       "      <td>46.3927778,-90.7775</td>\n",
       "    </tr>\n",
       "    <tr>\n",
       "      <td>2568</td>\n",
       "      <td>us</td>\n",
       "      <td>yorktown</td>\n",
       "      <td>Yorktown</td>\n",
       "      <td>IL</td>\n",
       "      <td>NaN</td>\n",
       "      <td>41.569722</td>\n",
       "      <td>-89.850000</td>\n",
       "      <td>41.5697222,-89.85</td>\n",
       "    </tr>\n",
       "    <tr>\n",
       "      <td>3788</td>\n",
       "      <td>us</td>\n",
       "      <td>york springs</td>\n",
       "      <td>York Springs</td>\n",
       "      <td>PA</td>\n",
       "      <td>NaN</td>\n",
       "      <td>40.008889</td>\n",
       "      <td>-77.115833</td>\n",
       "      <td>40.0088889,-77.1158333</td>\n",
       "    </tr>\n",
       "    <tr>\n",
       "      <td>...</td>\n",
       "      <td>...</td>\n",
       "      <td>...</td>\n",
       "      <td>...</td>\n",
       "      <td>...</td>\n",
       "      <td>...</td>\n",
       "      <td>...</td>\n",
       "      <td>...</td>\n",
       "      <td>...</td>\n",
       "    </tr>\n",
       "    <tr>\n",
       "      <td>135925</td>\n",
       "      <td>us</td>\n",
       "      <td>yorkwood</td>\n",
       "      <td>Yorkwood</td>\n",
       "      <td>SC</td>\n",
       "      <td>NaN</td>\n",
       "      <td>34.804167</td>\n",
       "      <td>-82.546667</td>\n",
       "      <td>34.8041667,-82.5466667</td>\n",
       "    </tr>\n",
       "    <tr>\n",
       "      <td>136366</td>\n",
       "      <td>us</td>\n",
       "      <td>york</td>\n",
       "      <td>York</td>\n",
       "      <td>ND</td>\n",
       "      <td>NaN</td>\n",
       "      <td>48.312778</td>\n",
       "      <td>-99.573056</td>\n",
       "      <td>48.3127778,-99.5730556</td>\n",
       "    </tr>\n",
       "    <tr>\n",
       "      <td>136899</td>\n",
       "      <td>us</td>\n",
       "      <td>yorktown woods</td>\n",
       "      <td>Yorktown Woods</td>\n",
       "      <td>TN</td>\n",
       "      <td>NaN</td>\n",
       "      <td>35.038333</td>\n",
       "      <td>-85.105556</td>\n",
       "      <td>35.0383333,-85.1055556</td>\n",
       "    </tr>\n",
       "    <tr>\n",
       "      <td>137081</td>\n",
       "      <td>us</td>\n",
       "      <td>yorkshire</td>\n",
       "      <td>Yorkshire</td>\n",
       "      <td>PA</td>\n",
       "      <td>NaN</td>\n",
       "      <td>39.966111</td>\n",
       "      <td>-76.661111</td>\n",
       "      <td>39.9661111,-76.6611111</td>\n",
       "    </tr>\n",
       "    <tr>\n",
       "      <td>140822</td>\n",
       "      <td>us</td>\n",
       "      <td>yorkdale</td>\n",
       "      <td>Yorkdale</td>\n",
       "      <td>LA</td>\n",
       "      <td>NaN</td>\n",
       "      <td>30.557778</td>\n",
       "      <td>-91.121389</td>\n",
       "      <td>30.5577778,-91.1213889</td>\n",
       "    </tr>\n",
       "  </tbody>\n",
       "</table>\n",
       "<p>122 rows × 8 columns</p>\n",
       "</div>"
      ],
      "text/plain": [
       "       Country            City      AccentCity Region  Population   Latitude  \\\n",
       "1082        us         yorklyn         Yorklyn     PA         NaN  39.992222   \n",
       "1443        us            york            York     AL         NaN  32.486111   \n",
       "1946        us      north york      North York     WI         NaN  46.392778   \n",
       "2568        us        yorktown        Yorktown     IL         NaN  41.569722   \n",
       "3788        us    york springs    York Springs     PA         NaN  40.008889   \n",
       "...        ...             ...             ...    ...         ...        ...   \n",
       "135925      us        yorkwood        Yorkwood     SC         NaN  34.804167   \n",
       "136366      us            york            York     ND         NaN  48.312778   \n",
       "136899      us  yorktown woods  Yorktown Woods     TN         NaN  35.038333   \n",
       "137081      us       yorkshire       Yorkshire     PA         NaN  39.966111   \n",
       "140822      us        yorkdale        Yorkdale     LA         NaN  30.557778   \n",
       "\n",
       "        Longitude                geopoint  \n",
       "1082   -76.646667  39.9922222,-76.6466667  \n",
       "1443   -88.296389  32.4861111,-88.2963889  \n",
       "1946   -90.777500     46.3927778,-90.7775  \n",
       "2568   -89.850000       41.5697222,-89.85  \n",
       "3788   -77.115833  40.0088889,-77.1158333  \n",
       "...           ...                     ...  \n",
       "135925 -82.546667  34.8041667,-82.5466667  \n",
       "136366 -99.573056  48.3127778,-99.5730556  \n",
       "136899 -85.105556  35.0383333,-85.1055556  \n",
       "137081 -76.661111  39.9661111,-76.6611111  \n",
       "140822 -91.121389  30.5577778,-91.1213889  \n",
       "\n",
       "[122 rows x 8 columns]"
      ]
     },
     "execution_count": 16,
     "metadata": {},
     "output_type": "execute_result"
    }
   ],
   "source": [
    "# Ciudades estadounidenses que contienen la palabra york\n",
    "usa[usa.City.str.contains('york',regex=True)].compute()"
   ]
  },
  {
   "cell_type": "markdown",
   "metadata": {},
   "source": [
    "##### Conclusiones\n",
    "Podemos decir que hay muchas más ciudades en la costa este que en la costa oeste, y que en la costa este son mucho menos inmaginativos para el nombre de ciudades considerando que aprox. 21%  de los nombres están repetidos en comparación con el  aprox. 10% de la Costa Oeste.\n",
    "\n",
    "Es necesario eliminar los nombres repetidos de la base de UK para no revisarlos dos veces cuando hagamos el match con las ciudades estadounidenses.\n",
    "\n",
    "Ahora tenemos que solucionar un problema; anteriormente vimos'New' no se incluye como parte del nombre necesariamente, algunas tienen 'nort' o incluso sufijo de 'town' o 'ville', para colmo pasa lo mismo con algunas ciudades de Gran Bretaña. Entonces ¿cómo definir qué nombres de ciudades fueron realmente tomados de ciudades de Gran Bretaña?\n",
    "\n",
    "Una primera aproximación a esto sería simplemente buscar entre todos los nombres ingleses que hagan match con los nombres de ciudades estadounidenses almenos parcialmente \n",
    "o una lista de stopping words"
   ]
  },
  {
   "cell_type": "code",
   "execution_count": 17,
   "metadata": {},
   "outputs": [],
   "source": [
    "## Eliminamos los nombres repetidos de la base de UK\n",
    "uk=uk.drop_duplicates(subset='City')\n",
    "uk=uk.reset_index(drop=True)\n",
    "## De Hecho solo necesitaremos el nombre de las ciudades y la población\n",
    "uk=uk[['City','Population']].compute()\n",
    "## Ordenamos por Población, con la intuición de que se tomaron nombres de ciudades más pobladas.\n",
    "#(obviando cambios demograficos)\n",
    "uk.fillna(0,inplace=True)\n",
    "uk.sort_values('Population',ascending=False,inplace=True)\n",
    "uk=uk[['City']]"
   ]
  },
  {
   "cell_type": "code",
   "execution_count": 18,
   "metadata": {},
   "outputs": [],
   "source": [
    "#Hagamos un pandas dataframe con las ciudades\n",
    "east_c_pd=east_c[['City']].compute()\n",
    "west_c_pd=west_c[['City']].compute()"
   ]
  },
  {
   "cell_type": "code",
   "execution_count": 19,
   "metadata": {},
   "outputs": [],
   "source": [
    "#Función de match de nombres paralelizada y distribuida.\n",
    "def match(wrd,pandas):\n",
    "    daskd=dd.from_pandas(pandas,npartitions=len(pandas)//100) #Por si alcanzo a implementar la disminución\n",
    "    if len(daskd.City[daskd.City.str.contains(str(wrd),regex=True)].index)>0:\n",
    "        return daskd.City[daskd.City.str.contains(str(wrd),regex=True)].index.compute()\n",
    "    else:\n",
    "        pass"
   ]
  },
  {
   "cell_type": "code",
   "execution_count": 20,
   "metadata": {},
   "outputs": [],
   "source": [
    "indices_ec = Parallel(n_jobs=num_cores)(delayed(match)(wrd=city,pandas=east_c_pd) for city in uk.City)"
   ]
  },
  {
   "cell_type": "code",
   "execution_count": 21,
   "metadata": {},
   "outputs": [],
   "source": [
    "indices_ec=[x for x in indices_ec if x is not None]\n",
    "indices_ec = [y for x in indices_ec for y in x]\n",
    "indices_ec=np.unique(indices_ec)"
   ]
  },
  {
   "cell_type": "code",
   "execution_count": 22,
   "metadata": {},
   "outputs": [
    {
     "name": "stdout",
     "output_type": "stream",
     "text": [
      "Tenemos  23024  nombres de ciudades de la costa este tomados de UK.\n"
     ]
    }
   ],
   "source": [
    "print('Tenemos ',len(indices_ec),' nombres de ciudades de la costa este tomados de UK.')"
   ]
  },
  {
   "cell_type": "code",
   "execution_count": 25,
   "metadata": {},
   "outputs": [],
   "source": [
    "indices_wc = Parallel(n_jobs=num_cores)(delayed(match)(wrd=city,pandas=west_c_pd) for city in uk.City)"
   ]
  },
  {
   "cell_type": "code",
   "execution_count": 26,
   "metadata": {},
   "outputs": [],
   "source": [
    "indices_wc=[x for x in indices_wc if x is not None]\n",
    "indices_wc = [y for x in indices_wc for y in x]\n",
    "indices_wc=np.unique(indices_wc)"
   ]
  },
  {
   "cell_type": "code",
   "execution_count": 27,
   "metadata": {},
   "outputs": [
    {
     "name": "stdout",
     "output_type": "stream",
     "text": [
      "Tenemos  4518  nombres de ciudades de la costa oeste tomados de UK.\n"
     ]
    }
   ],
   "source": [
    "print('Tenemos ',len(indices_wc),' nombres de ciudades de la costa oeste tomados de UK.')"
   ]
  },
  {
   "cell_type": "markdown",
   "metadata": {},
   "source": [
    "### Conclusión\n",
    "Tenemos muchos mas nombres traidos de la costa este qué de la costa oeste, sin embargo hay que considerar que hay menos ciudades en la costa este que en la costa oeste, y porsupuesto obviando los errores"
   ]
  },
  {
   "cell_type": "code",
   "execution_count": null,
   "metadata": {},
   "outputs": [],
   "source": []
  }
 ],
 "metadata": {
  "kernelspec": {
   "display_name": "Python 3",
   "language": "python",
   "name": "python3"
  },
  "language_info": {
   "codemirror_mode": {
    "name": "ipython",
    "version": 3
   },
   "file_extension": ".py",
   "mimetype": "text/x-python",
   "name": "python",
   "nbconvert_exporter": "python",
   "pygments_lexer": "ipython3",
   "version": "3.7.4"
  }
 },
 "nbformat": 4,
 "nbformat_minor": 2
}
